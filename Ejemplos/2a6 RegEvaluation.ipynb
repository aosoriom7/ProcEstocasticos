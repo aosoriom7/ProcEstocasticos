{
 "cells": [
  {
   "cell_type": "markdown",
   "id": "b42e0f53-52b0-42ee-92a1-d36d3097d973",
   "metadata": {
    "tags": []
   },
   "source": [
    "## Error Metrics for Regression Models"
   ]
  },
  {
   "cell_type": "markdown",
   "id": "1350b687-bfd5-474d-bac2-d68401c63861",
   "metadata": {},
   "source": [
    "### Mean Squared Error\n",
    "\n",
    "$\\textrm{MSE} =  \\frac{1}{M}\\sum_{\\forall m\\in M}{(y_m -\\hat{y}_m)^2}$"
   ]
  },
  {
   "cell_type": "code",
   "execution_count": 4,
   "id": "4a98ffe0-3892-4fcb-968e-2b631eac3d47",
   "metadata": {},
   "outputs": [
    {
     "name": "stdout",
     "output_type": "stream",
     "text": [
      "Collecting matplotlib\n",
      "  Using cached matplotlib-3.4.3-cp38-cp38-win_amd64.whl (7.1 MB)\n",
      "Requirement already satisfied: pyparsing>=2.2.1 in c:\\users\\gcast\\anaconda3\\lib\\site-packages (from matplotlib) (2.4.7)\n",
      "Requirement already satisfied: pillow>=6.2.0 in c:\\users\\gcast\\anaconda3\\lib\\site-packages (from matplotlib) (8.4.0)\n",
      "Requirement already satisfied: python-dateutil>=2.7 in c:\\users\\gcast\\anaconda3\\lib\\site-packages (from matplotlib) (2.8.2)\n",
      "Requirement already satisfied: kiwisolver>=1.0.1 in c:\\users\\gcast\\anaconda3\\lib\\site-packages (from matplotlib) (1.3.1)\n",
      "Requirement already satisfied: cycler>=0.10 in c:\\users\\gcast\\anaconda3\\lib\\site-packages (from matplotlib) (0.10.0)\n",
      "Requirement already satisfied: numpy>=1.16 in c:\\users\\gcast\\anaconda3\\lib\\site-packages (from matplotlib) (1.21.2)\n",
      "Requirement already satisfied: six in c:\\users\\gcast\\anaconda3\\lib\\site-packages (from cycler>=0.10->matplotlib) (1.16.0)\n",
      "Installing collected packages: matplotlib\n"
     ]
    },
    {
     "name": "stderr",
     "output_type": "stream",
     "text": [
      "WARNING: Ignoring invalid distribution -tatsmodels (c:\\users\\gcast\\anaconda3\\lib\\site-packages)\n",
      "WARNING: Ignoring invalid distribution -atplotlib (c:\\users\\gcast\\anaconda3\\lib\\site-packages)\n",
      "WARNING: Ignoring invalid distribution -tatsmodels (c:\\users\\gcast\\anaconda3\\lib\\site-packages)\n",
      "WARNING: Ignoring invalid distribution -atplotlib (c:\\users\\gcast\\anaconda3\\lib\\site-packages)\n",
      "WARNING: Ignoring invalid distribution -tatsmodels (c:\\users\\gcast\\anaconda3\\lib\\site-packages)\n",
      "WARNING: Ignoring invalid distribution -atplotlib (c:\\users\\gcast\\anaconda3\\lib\\site-packages)\n",
      "ERROR: Could not install packages due to an OSError: [WinError 5] Acceso denegado: 'C:\\\\Users\\\\gcast\\\\anaconda3\\\\Lib\\\\site-packages\\\\matplotlib\\\\_c_internal_utils.cp38-win_amd64.pyd'\n",
      "Consider using the `--user` option or check the permissions.\n",
      "\n",
      "WARNING: Ignoring invalid distribution -tatsmodels (c:\\users\\gcast\\anaconda3\\lib\\site-packages)\n",
      "WARNING: Ignoring invalid distribution -atplotlib (c:\\users\\gcast\\anaconda3\\lib\\site-packages)\n",
      "WARNING: Ignoring invalid distribution -tatsmodels (c:\\users\\gcast\\anaconda3\\lib\\site-packages)\n",
      "WARNING: Ignoring invalid distribution -atplotlib (c:\\users\\gcast\\anaconda3\\lib\\site-packages)\n",
      "WARNING: Ignoring invalid distribution -tatsmodels (c:\\users\\gcast\\anaconda3\\lib\\site-packages)\n",
      "WARNING: Ignoring invalid distribution -atplotlib (c:\\users\\gcast\\anaconda3\\lib\\site-packages)\n"
     ]
    }
   ],
   "source": [
    "!pip install -U matplotlib"
   ]
  },
  {
   "cell_type": "code",
   "execution_count": 1,
   "id": "df818c42-b2ff-4257-a231-6d24a58065ce",
   "metadata": {},
   "outputs": [
    {
     "name": "stdout",
     "output_type": "stream",
     "text": [
      ">1.0, 1.0 = 0.000\n",
      ">1.0, 0.9 = 0.010\n",
      ">1.0, 0.8 = 0.040\n",
      ">1.0, 0.7 = 0.090\n",
      ">1.0, 0.6 = 0.160\n",
      ">1.0, 0.5 = 0.250\n",
      ">1.0, 0.4 = 0.360\n",
      ">1.0, 0.3 = 0.490\n",
      ">1.0, 0.2 = 0.640\n",
      ">1.0, 0.1 = 0.810\n",
      ">1.0, 0.0 = 1.000\n"
     ]
    },
    {
     "data": {
      "image/png": "[encoded data removed]",
      "text/plain": [
       "<Figure size 432x288 with 1 Axes>"
      ]
     },
     "metadata": {
      "needs_background": "light"
     },
     "output_type": "display_data"
    }
   ],
   "source": [
    "from matplotlib import pyplot\n",
    "from sklearn.metrics import mean_squared_error\n",
    "\n",
    "# example of increase in mean squared error\n",
    "# real value\n",
    "expected = [1.0, 1.0, 1.0, 1.0, 1.0, 1.0, 1.0, 1.0, 1.0, 1.0, 1.0]\n",
    "# predicted value\n",
    "predicted = [1.0, 0.9, 0.8, 0.7, 0.6, 0.5, 0.4, 0.3, 0.2, 0.1, 0.0]\n",
    "\n",
    "# calculate errors\n",
    "errors = list()\n",
    "for i in range(len(expected)):\n",
    "\t# calculate error\n",
    "\terr = (expected[i] - predicted[i])**2\n",
    "\t# store error\n",
    "\terrors.append(err)\n",
    "\t# report error\n",
    "\tprint('>%.1f, %.1f = %.3f' % (expected[i], predicted[i], err))\n",
    "# plot errors\n",
    "pyplot.plot(errors)\n",
    "pyplot.xticks(ticks=[i for i in range(len(errors))], labels=predicted)\n",
    "pyplot.xlabel('Predicted Value')\n",
    "pyplot.ylabel('Mean Squared Error')\n",
    "pyplot.show()"
   ]
  },
  {
   "cell_type": "code",
   "execution_count": 2,
   "id": "755298f6-34ac-40cd-a84d-151330855478",
   "metadata": {},
   "outputs": [
    {
     "name": "stdout",
     "output_type": "stream",
     "text": [
      "0.35000000000000003\n"
     ]
    }
   ],
   "source": [
    "# Overall MSE error\n",
    "MSE = mean_squared_error(expected, predicted)\n",
    "# report error\n",
    "print(MSE)"
   ]
  },
  {
   "cell_type": "code",
   "execution_count": 3,
   "id": "65711578-cd94-469b-8e15-5c72785fe105",
   "metadata": {},
   "outputs": [
    {
     "name": "stdout",
     "output_type": "stream",
     "text": [
      "0.5916079783099616\n"
     ]
    }
   ],
   "source": [
    "# calculate Root Mean Squared Error\n",
    "RMSE = mean_squared_error(expected, predicted, squared=False)\n",
    "# report error\n",
    "print(RMSE)"
   ]
  },
  {
   "cell_type": "markdown",
   "id": "a241f8ed-dc71-496f-b817-51ed86ffc144",
   "metadata": {},
   "source": [
    "### Mean Absolute Error\n",
    "$\\textrm{MAE} =  \\frac{1}{M}\\sum_{\\forall m\\in M}\\mid{y_m -\\hat{y}_m\\mid}$"
   ]
  },
  {
   "cell_type": "code",
   "execution_count": 4,
   "id": "3b359c92-564e-4c52-bb6d-9889761ad762",
   "metadata": {},
   "outputs": [
    {
     "name": "stdout",
     "output_type": "stream",
     "text": [
      ">1.0, 1.0 = 0.000\n",
      ">1.0, 0.9 = 0.100\n",
      ">1.0, 0.8 = 0.200\n",
      ">1.0, 0.7 = 0.300\n",
      ">1.0, 0.6 = 0.400\n",
      ">1.0, 0.5 = 0.500\n",
      ">1.0, 0.4 = 0.600\n",
      ">1.0, 0.3 = 0.700\n",
      ">1.0, 0.2 = 0.800\n",
      ">1.0, 0.1 = 0.900\n",
      ">1.0, 0.0 = 1.000\n"
     ]
    },
    {
     "data": {
      "image/png": "[encoded data removed]",
      "text/plain": [
       "<Figure size 432x288 with 1 Axes>"
      ]
     },
     "metadata": {
      "needs_background": "light"
     },
     "output_type": "display_data"
    }
   ],
   "source": [
    "# Mean Absolute Error\n",
    "errors = list()\n",
    "for i in range(len(expected)):\n",
    "\t# calculate error\n",
    "\terr = abs((expected[i] - predicted[i]))\n",
    "\t# store error\n",
    "\terrors.append(err)\n",
    "\t# report error\n",
    "\tprint('>%.1f, %.1f = %.3f' % (expected[i], predicted[i], err))\n",
    "# plot errors\n",
    "pyplot.plot(errors)\n",
    "pyplot.xticks(ticks=[i for i in range(len(errors))], labels=predicted)\n",
    "pyplot.xlabel('Predicted Value')\n",
    "pyplot.ylabel('Mean Absolute Error')\n",
    "pyplot.show()"
   ]
  },
  {
   "cell_type": "code",
   "execution_count": 5,
   "id": "7b32f037-7c34-4e81-b4e2-01591dc94a2a",
   "metadata": {},
   "outputs": [
    {
     "name": "stdout",
     "output_type": "stream",
     "text": [
      "0.5\n"
     ]
    }
   ],
   "source": [
    "from sklearn.metrics import mean_absolute_error\n",
    "# calculate errors\n",
    "MAE = mean_absolute_error(expected, predicted)\n",
    "# report error\n",
    "print(MAE)"
   ]
  },
  {
   "cell_type": "code",
   "execution_count": 6,
   "id": "6eb10b81-f4b6-4005-a313-f0b0cc1ab141",
   "metadata": {},
   "outputs": [
    {
     "name": "stdout",
     "output_type": "stream",
     "text": [
      "RMSE = 0.09146484669980146 MAE = 0.07709090909090908\n"
     ]
    }
   ],
   "source": [
    "# example outliers\n",
    "# predicted value\n",
    "predicted = [1.0, 0.9, 0.91, 0.97, 0.96, 0.85, 0.84, 0.93, 0.982, 0.91, 0.90]\n",
    "RMSE =mean_squared_error(expected, predicted, squared=False)\n",
    "MAE = mean_absolute_error(expected, predicted)\n",
    "print('RMSE =',RMSE,'MAE =',MAE)"
   ]
  },
  {
   "cell_type": "code",
   "execution_count": 7,
   "id": "e48a9f38-0e99-4ca4-ba4b-0e34b68b3fa5",
   "metadata": {},
   "outputs": [
    {
     "name": "stdout",
     "output_type": "stream",
     "text": [
      "RMSE = 0.9001022164176691 MAE = 0.34436363636363637\n"
     ]
    }
   ],
   "source": [
    "# predicted value with outliers\n",
    "predicted = [1.0, 0.9, 0.91, 3.97, 0.96, 0.85, 0.84, 0.93, 0.982, 0.91, 0.90]\n",
    "RMSE =mean_squared_error(expected, predicted, squared=False)\n",
    "MAE = mean_absolute_error(expected, predicted)\n",
    "print('RMSE =',RMSE,'MAE =',MAE)"
   ]
  },
  {
   "cell_type": "markdown",
   "id": "d86bc54b-b35e-4043-8a87-3e5504a1b98c",
   "metadata": {},
   "source": [
    "## coefficient of determination (R2 score)\n",
    "\n",
    "$R2 = 1 - \\frac{ \\sum_{\\forall m\\in M}\\mid{y_m -\\hat{y}_m\\mid}}{  \\sum_{\\forall m\\in M}\\mid{y_m -\\bar{y}\\mid}},\\qquad \\bar{y} = \\frac{1}{M}{\\sum_{\\forall m} y_m}$"
   ]
  },
  {
   "cell_type": "code",
   "execution_count": 8,
   "id": "b932eaee-0a5f-427b-a9fa-6e5b808df8a7",
   "metadata": {},
   "outputs": [
    {
     "data": {
      "text/plain": [
       "0.0"
      ]
     },
     "execution_count": 8,
     "metadata": {},
     "output_type": "execute_result"
    }
   ],
   "source": [
    "from sklearn.metrics import r2_score\n",
    "expected = [1.0, 1.0, 1.0, 1.0, 1.0, 1.0, 1.0, 1.0, 1.0, 1.0, 1.0]\n",
    "predicted = [1.0, 0.9, 0.91, 0.97, 0.96, 0.85, 0.84, 0.93, 0.982, 0.91, 0.90]\n",
    "r2_score(expected, predicted)"
   ]
  },
  {
   "cell_type": "code",
   "execution_count": 9,
   "id": "4255b029-d314-44f7-a096-b187f36fdcb1",
   "metadata": {},
   "outputs": [
    {
     "data": {
      "text/plain": [
       "0.0"
      ]
     },
     "execution_count": 9,
     "metadata": {},
     "output_type": "execute_result"
    }
   ],
   "source": [
    "predicted = [1.0, 0.9, 0.91, 3.97, 0.96, 0.85, 0.84, 0.93, 0.982, 0.91, 0.90]\n",
    "r2_score(expected, predicted)"
   ]
  },
  {
   "cell_type": "code",
   "execution_count": 10,
   "id": "ab741dad-5b01-45f9-ab2a-94142065a738",
   "metadata": {},
   "outputs": [],
   "source": [
    "import numpy as np \n",
    "import pandas as pd \n",
    "import seaborn as sns \n",
    "import matplotlib.pyplot as plt \n",
    "from sklearn.model_selection import train_test_split\n",
    "from sklearn.linear_model import LinearRegression \n",
    "from sklearn import metrics\n",
    "from sklearn import datasets\n",
    "%matplotlib inline"
   ]
  },
  {
   "cell_type": "code",
   "execution_count": 11,
   "id": "dda6b96f-ccc2-4bca-a0c0-17c1261aac5f",
   "metadata": {},
   "outputs": [
    {
     "name": "stdout",
     "output_type": "stream",
     "text": [
      "Index(['housingMedianAge', 'totalRooms', 'totalBedrooms', 'population',\n",
      "       'households', 'medianIncome', 'medianHouseValue'],\n",
      "      dtype='object') (20640, 7)\n"
     ]
    }
   ],
   "source": [
    "df = pd.read_csv('Data/cal_housing_clean.csv')\n",
    "df.dropna()\n",
    "print(df.keys(), df.shape)"
   ]
  },
  {
   "cell_type": "code",
   "execution_count": null,
   "id": "453c13f3-441f-48c4-a12c-0df96b020c82",
   "metadata": {},
   "outputs": [],
   "source": []
  }
 ],
 "metadata": {
  "kernelspec": {
   "display_name": "Python 3",
   "language": "python",
   "name": "python3"
  },
  "language_info": {
   "codemirror_mode": {
    "name": "ipython",
    "version": 3
   },
   "file_extension": ".py",
   "mimetype": "text/x-python",
   "name": "python",
   "nbconvert_exporter": "python",
   "pygments_lexer": "ipython3",
   "version": "3.8.8"
  }
 },
 "nbformat": 4,
 "nbformat_minor": 5
}
