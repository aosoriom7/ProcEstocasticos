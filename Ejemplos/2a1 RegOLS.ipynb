{
 "cells": [
  {
   "cell_type": "code",
   "execution_count": 1,
   "metadata": {
    "tags": []
   },
   "outputs": [],
   "source": [
    "# Linear regression - Ordinary Least Squares¶\n",
    "\n",
    "import numpy as np\n",
    "import matplotlib.pyplot as plt\n",
    "from matplotlib.pyplot import figure\n",
    "from IPython.display import display, Math, Latex\n",
    "\n",
    "%matplotlib inline\n",
    "\n",
    "# let k=0,1,  noiseless representation \n",
    "K= 2; M = K;  theta0 = np.pi/10; theta1 = np.pi*np.pi; "
   ]
  },
  {
   "cell_type": "markdown",
   "metadata": {
    "tags": []
   },
   "source": [
    "$\\bf{y} = \\pmb{\\theta}(\\bf{x}) ,   \\quad \\pmb{\\theta}=[\\theta_k:k\\in K]\\in\\mathbb{R}^{K}$"
   ]
  },
  {
   "cell_type": "code",
   "execution_count": 2,
   "metadata": {
    "tags": []
   },
   "outputs": [
    {
     "data": {
      "text/latex": [
       "$\\displaystyle \\theta_1= $"
      ],
      "text/plain": [
       "<IPython.core.display.Math object>"
      ]
     },
     "metadata": {},
     "output_type": "display_data"
    },
    {
     "data": {
      "text/plain": [
       "9.869604401089358"
      ]
     },
     "metadata": {},
     "output_type": "display_data"
    },
    {
     "data": {
      "text/latex": [
       "$\\displaystyle \\theta_0=$"
      ],
      "text/plain": [
       "<IPython.core.display.Math object>"
      ]
     },
     "metadata": {},
     "output_type": "display_data"
    },
    {
     "data": {
      "text/plain": [
       "0.3141592653589793"
      ]
     },
     "metadata": {},
     "output_type": "display_data"
    }
   ],
   "source": [
    "display(Math(r'\\theta_1= '),theta1,Math(r'\\theta_0='),theta0)"
   ]
  },
  {
   "cell_type": "code",
   "execution_count": 3,
   "metadata": {},
   "outputs": [
    {
     "name": "stdout",
     "output_type": "stream",
     "text": [
      "Measured noiseless values\n",
      "[[3.91928294 5.85860624]] = theta1 [[0.3652754  0.56176993]] +theta0\n"
     ]
    }
   ],
   "source": [
    "print('Measured noiseless values')\n",
    "X = np.random.rand(2,1)\n",
    "y = theta0 + theta1 * X \n",
    "print( y.T,'=','theta1',X.T,'+theta0' )"
   ]
  },
  {
   "cell_type": "markdown",
   "metadata": {},
   "source": [
    "$theta1 = \\frac{y[0]-y[1]}{X[0]-X[1]},\\quad theta0  = y[1] -theta1 * X[1] $"
   ]
  },
  {
   "cell_type": "code",
   "execution_count": 4,
   "metadata": {},
   "outputs": [
    {
     "name": "stdout",
     "output_type": "stream",
     "text": [
      "theta0= [0.31415927]    theta1= [9.8696044]\n",
      "Theta= [[0.31415927 9.8696044 ]]\n"
     ]
    }
   ],
   "source": [
    "theta1_est = (y[0]-y[1])/(X[0]-X[1]); theta0_est= y[1] -theta1_est * X[1] \n",
    "print('theta0=',theta0_est,'   theta1=', theta1_est )\n",
    "# newly encoding\n",
    "X_b = np.c_[np.ones((2,1)),X]\n",
    "Theta= np.linalg.inv(X_b.T.dot(X_b)).dot(X_b.T).dot(y)  # (multiplicative) inverse of a matrix.\n",
    "print('Theta=',Theta.T)"
   ]
  },
  {
   "cell_type": "code",
   "execution_count": 5,
   "metadata": {},
   "outputs": [
    {
     "name": "stdout",
     "output_type": "stream",
     "text": [
      "Measured noisy values\n"
     ]
    }
   ],
   "source": [
    "# noisy values\n",
    "print('Measured noisy values')\n",
    "M = 512;  theta1 = np.pi*np.pi; theta0 = np.pi/10; sigma= 1"
   ]
  },
  {
   "cell_type": "markdown",
   "metadata": {},
   "source": [
    "$\\bf{y} = \\pmb{\\theta}(\\bf{x})+  {\\sigma}\\pmb{\\epsilon},   \\quad \\sigma\\in\\mathbb{R}^{+}$"
   ]
  },
  {
   "cell_type": "code",
   "execution_count": 6,
   "metadata": {},
   "outputs": [
    {
     "name": "stdout",
     "output_type": "stream",
     "text": [
      "$\\Theta$=  9.869604401089358 0.3141592653589793\n"
     ]
    }
   ],
   "source": [
    "print(r'$\\Theta$= ',theta1,theta0)\n",
    "X = np.random.rand(M,1)\n",
    "y =  theta1 * X + theta0 + sigma*np.random.randn(M,1)"
   ]
  },
  {
   "cell_type": "code",
   "execution_count": 7,
   "metadata": {},
   "outputs": [
    {
     "name": "stdout",
     "output_type": "stream",
     "text": [
      "[188.03806817] [-10.21636112]\n"
     ]
    }
   ],
   "source": [
    "# averaging over all pairs\n",
    "th = [0] * 1; cont= 0; \n",
    "for m in range(M):\n",
    "    for n in range(m+1,M):\n",
    "        cont = cont +1\n",
    "        X2 = np.array([X[n],X[m]])\n",
    "        y2 = np.array([y[n],y[m]])\n",
    "        X_b = np.c_[np.ones((2,1)),X2]\n",
    "        Theta= np.linalg.inv(X_b.T.dot(X_b)).dot(X_b.T).dot(y2)  # (multiplicative) inverse of a matrix.\n",
    "        th = th + Theta\n",
    "th = th/cont\n",
    "print(th[1],th[0])"
   ]
  },
  {
   "cell_type": "markdown",
   "metadata": {
    "tags": []
   },
   "source": [
    "### Ordinary Least Squares\n",
    "\n",
    "$\\begin{align*}\n",
    "\\min_{\\bf{W}}\\frac{1}{2}\\mid\\mid\\bf{W}^{\\top}\\bf{x} - \\hat{\\bf{y}}\\mid\\mid^{2}_2, &\\qquad\\textrm{  Residual Sum of Squares}\\\\\n",
    "\\hat{\\theta}_1 =\\frac{(\\sum y)(\\sum x^{2}) - (\\sum x)(\\sum xy)}{n(\\sum x^{2})-(\\sum x^{2})}&\\qquad\n",
    "\\hat{\\theta}_0  =\\frac{n(\\sum xy)- (\\sum x)(\\sum y)}{n(\\sum x^{2})-(\\sum x^{2})} \n",
    "\\end{align*}\n",
    "$"
   ]
  },
  {
   "cell_type": "code",
   "execution_count": 8,
   "metadata": {},
   "outputs": [
    {
     "name": "stdout",
     "output_type": "stream",
     "text": [
      "[19.74420669] [0.32484701]\n"
     ]
    }
   ],
   "source": [
    "# including all noisy measures\n",
    "M = 512\n",
    "X_b = np.c_[np.ones((M,1)),X]\n",
    "y =  theta1 * X + theta0 + sigma*np.random.randn(M,1)\n",
    "\n",
    "theta_best = np.linalg.inv(X_b.T.dot(X_b)).dot(X_b.T).dot(y)\n",
    "Xp = np.linspace(0, 1, M,  endpoint=False)\n",
    "y2 = th[1]*Xp + th[0]\n",
    "yall = theta_best[1]*Xp + theta_best[0]\n",
    "X_new = np.array([[0],[2]])\n",
    "X_new_b = np.c_[np.ones((2,1)),X_new]\n",
    "y_predict = X_new_b.dot(theta_best)\n",
    "print(y_predict[1],y_predict[0])"
   ]
  },
  {
   "cell_type": "code",
   "execution_count": 9,
   "metadata": {},
   "outputs": [
    {
     "data": {
      "image/png": "[encoded data removed]",
      "text/plain": [
       "<Figure size 1440x360 with 1 Axes>"
      ]
     },
     "metadata": {
      "needs_background": "light"
     },
     "output_type": "display_data"
    }
   ],
   "source": [
    "figure(figsize=(12, 3), dpi=120)\n",
    "plt.plot(X,y,'b.')\n",
    "plt.plot(Xp,y2,'r.')\n",
    "plt.plot(Xp,yall,'y.')\n",
    "plt.xlabel(\"$x, \\sigma=10$\", fontsize=18)\n",
    "plt.ylabel(\"$y$\", rotation=0, fontsize=18)\n",
    "plt.axis([min(X),max(X),min(y),max(y)])\n",
    "plt.show()"
   ]
  },
  {
   "cell_type": "markdown",
   "metadata": {
    "id": "utKcEx5Qleza"
   },
   "source": [
    "## Gaussian Maximum Likelihood Estimation \n",
    "$\\begin{align}\n",
    "x\\sim\\mathcal{N}_x(\\mu_x,\\sigma_x^{2}),&\\quad y\\sim \\mathcal{N}_y(\\mu_y,\\sigma_y^{2}) = \\mathcal{N}_y(\\bf{W}^{\\top}\\bf{x},\\sigma_y^{2}) \\\\\n",
    "\\hat{\\bf{W}}_{MLE} &=\\arg\\max_{\\bf{W}} \\mathcal{N}_y(\\hat{\\bf{y}}\\mid\\bf{W}^{\\top}\\bf{x},\\sigma_y^{2})\\sim \\arg\\max_{\\bf{W}} \\ln \\mathcal{N}_y(\\hat{\\bf{y}}\\mid\\bf{W}^{\\top}\\bf{x},\\sigma_y^{2})\\\\\n",
    "\\hat{\\bf{W}}_{MLE} &=\\arg\\max_{\\bf{W}} \\frac{1}{2}(\\bf{W}^{\\top}\\bf{x} -\\hat{\\bf{y}})^{2} = \\min_{\\bf{W}}\\frac{1}{2}\\mid\\mid\\bf{W}^{\\top}\\bf{x} - \\hat{\\bf{y}}\\mid\\mid^{2}_2\n",
    "\\end{align}\n",
    "$\n",
    "\n",
    "Maximum Likelihood Estimation  on Gaussian pdf is the  estimate of  Mean Least Squares!"
   ]
  },
  {
   "cell_type": "code",
   "execution_count": null,
   "metadata": {},
   "outputs": [],
   "source": []
  }
 ],
 "metadata": {
  "kernelspec": {
   "display_name": "Python 3",
   "language": "python",
   "name": "python3"
  },
  "language_info": {
   "codemirror_mode": {
    "name": "ipython",
    "version": 3
   },
   "file_extension": ".py",
   "mimetype": "text/x-python",
   "name": "python",
   "nbconvert_exporter": "python",
   "pygments_lexer": "ipython3",
   "version": "3.8.3"
  }
 },
 "nbformat": 4,
 "nbformat_minor": 5
}
