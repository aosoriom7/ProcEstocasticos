{
 "cells": [
  {
   "cell_type": "code",
   "execution_count": 1,
   "id": "6e3944cf-97a8-4142-89ac-740b2f0d48d8",
   "metadata": {},
   "outputs": [],
   "source": [
    "# Multi-step Time series prediction using LSTM\n",
    "# https://ghoshratul063.medium.com/multi-step-time-series-prediction-using-lstm-3d616656ef25"
   ]
  },
  {
   "cell_type": "code",
   "execution_count": 2,
   "id": "d59a9cdc-7cd1-48da-94ca-43998badab8d",
   "metadata": {},
   "outputs": [
    {
     "name": "stdout",
     "output_type": "stream",
     "text": [
      "Requirement already satisfied: tensorflow in e:\\anaconda3\\lib\\site-packages (2.6.0)\n",
      "Requirement already satisfied: numpy~=1.19.2 in e:\\anaconda3\\lib\\site-packages (from tensorflow) (1.19.5)\n",
      "Requirement already satisfied: absl-py~=0.10 in e:\\anaconda3\\lib\\site-packages (from tensorflow) (0.15.0)\n",
      "Requirement already satisfied: wheel~=0.35 in e:\\anaconda3\\lib\\site-packages (from tensorflow) (0.36.2)\n",
      "Requirement already satisfied: astunparse~=1.6.3 in e:\\anaconda3\\lib\\site-packages (from tensorflow) (1.6.3)\n",
      "Requirement already satisfied: grpcio<2.0,>=1.37.0 in e:\\anaconda3\\lib\\site-packages (from tensorflow) (1.41.0)\n",
      "Requirement already satisfied: keras-preprocessing~=1.1.2 in e:\\anaconda3\\lib\\site-packages (from tensorflow) (1.1.2)\n",
      "Requirement already satisfied: six~=1.15.0 in e:\\anaconda3\\lib\\site-packages (from tensorflow) (1.15.0)\n",
      "Requirement already satisfied: tensorboard~=2.6 in e:\\anaconda3\\lib\\site-packages (from tensorflow) (2.7.0)\n",
      "Requirement already satisfied: termcolor~=1.1.0 in e:\\anaconda3\\lib\\site-packages (from tensorflow) (1.1.0)\n",
      "Requirement already satisfied: keras~=2.6 in e:\\anaconda3\\lib\\site-packages (from tensorflow) (2.6.0)\n",
      "Requirement already satisfied: h5py~=3.1.0 in e:\\anaconda3\\lib\\site-packages (from tensorflow) (3.1.0)\n",
      "Requirement already satisfied: protobuf>=3.9.2 in e:\\anaconda3\\lib\\site-packages (from tensorflow) (3.19.0)\n",
      "Requirement already satisfied: wrapt~=1.12.1 in e:\\anaconda3\\lib\\site-packages (from tensorflow) (1.12.1)\n",
      "Requirement already satisfied: flatbuffers~=1.12.0 in e:\\anaconda3\\lib\\site-packages (from tensorflow) (1.12)\n",
      "Requirement already satisfied: gast==0.4.0 in e:\\anaconda3\\lib\\site-packages (from tensorflow) (0.4.0)\n",
      "Requirement already satisfied: typing-extensions~=3.7.4 in e:\\anaconda3\\lib\\site-packages (from tensorflow) (3.7.4.3)\n",
      "Requirement already satisfied: opt-einsum~=3.3.0 in e:\\anaconda3\\lib\\site-packages (from tensorflow) (3.3.0)\n",
      "Requirement already satisfied: tensorflow-estimator~=2.6 in e:\\anaconda3\\lib\\site-packages (from tensorflow) (2.6.0)\n",
      "Requirement already satisfied: google-pasta~=0.2 in e:\\anaconda3\\lib\\site-packages (from tensorflow) (0.2.0)\n",
      "Requirement already satisfied: clang~=5.0 in e:\\anaconda3\\lib\\site-packages (from tensorflow) (5.0)\n",
      "Requirement already satisfied: tensorboard-data-server<0.7.0,>=0.6.0 in e:\\anaconda3\\lib\\site-packages (from tensorboard~=2.6->tensorflow) (0.6.1)\n",
      "Requirement already satisfied: google-auth<3,>=1.6.3 in e:\\anaconda3\\lib\\site-packages (from tensorboard~=2.6->tensorflow) (2.3.0)\n",
      "Requirement already satisfied: setuptools>=41.0.0 in e:\\anaconda3\\lib\\site-packages (from tensorboard~=2.6->tensorflow) (52.0.0.post20210125)\n",
      "Requirement already satisfied: requests<3,>=2.21.0 in e:\\anaconda3\\lib\\site-packages (from tensorboard~=2.6->tensorflow) (2.25.1)\n",
      "Requirement already satisfied: tensorboard-plugin-wit>=1.6.0 in e:\\anaconda3\\lib\\site-packages (from tensorboard~=2.6->tensorflow) (1.8.0)\n",
      "Requirement already satisfied: werkzeug>=0.11.15 in e:\\anaconda3\\lib\\site-packages (from tensorboard~=2.6->tensorflow) (1.0.1)\n",
      "Requirement already satisfied: google-auth-oauthlib<0.5,>=0.4.1 in e:\\anaconda3\\lib\\site-packages (from tensorboard~=2.6->tensorflow) (0.4.6)\n",
      "Requirement already satisfied: markdown>=2.6.8 in e:\\anaconda3\\lib\\site-packages (from tensorboard~=2.6->tensorflow) (3.3.4)\n",
      "Requirement already satisfied: cachetools<5.0,>=2.0.0 in e:\\anaconda3\\lib\\site-packages (from google-auth<3,>=1.6.3->tensorboard~=2.6->tensorflow) (4.2.4)\n",
      "Requirement already satisfied: pyasn1-modules>=0.2.1 in e:\\anaconda3\\lib\\site-packages (from google-auth<3,>=1.6.3->tensorboard~=2.6->tensorflow) (0.2.8)\n",
      "Requirement already satisfied: rsa<5,>=3.1.4 in e:\\anaconda3\\lib\\site-packages (from google-auth<3,>=1.6.3->tensorboard~=2.6->tensorflow) (4.7.2)\n",
      "Requirement already satisfied: requests-oauthlib>=0.7.0 in e:\\anaconda3\\lib\\site-packages (from google-auth-oauthlib<0.5,>=0.4.1->tensorboard~=2.6->tensorflow) (1.3.0)\n",
      "Requirement already satisfied: pyasn1<0.5.0,>=0.4.6 in e:\\anaconda3\\lib\\site-packages (from pyasn1-modules>=0.2.1->google-auth<3,>=1.6.3->tensorboard~=2.6->tensorflow) (0.4.8)\n",
      "Requirement already satisfied: idna<3,>=2.5 in e:\\anaconda3\\lib\\site-packages (from requests<3,>=2.21.0->tensorboard~=2.6->tensorflow) (2.10)\n",
      "Requirement already satisfied: certifi>=2017.4.17 in e:\\anaconda3\\lib\\site-packages (from requests<3,>=2.21.0->tensorboard~=2.6->tensorflow) (2020.12.5)\n",
      "Requirement already satisfied: urllib3<1.27,>=1.21.1 in e:\\anaconda3\\lib\\site-packages (from requests<3,>=2.21.0->tensorboard~=2.6->tensorflow) (1.26.4)\n",
      "Requirement already satisfied: chardet<5,>=3.0.2 in e:\\anaconda3\\lib\\site-packages (from requests<3,>=2.21.0->tensorboard~=2.6->tensorflow) (4.0.0)\n",
      "Requirement already satisfied: oauthlib>=3.0.0 in e:\\anaconda3\\lib\\site-packages (from requests-oauthlib>=0.7.0->google-auth-oauthlib<0.5,>=0.4.1->tensorboard~=2.6->tensorflow) (3.1.1)\n"
     ]
    }
   ],
   "source": [
    "!python -m pip install tensorflow"
   ]
  },
  {
   "cell_type": "code",
   "execution_count": 3,
   "id": "13d4d4f7-0b02-4e1c-93e8-9b731596961f",
   "metadata": {},
   "outputs": [],
   "source": [
    "import numpy as np\n",
    "import pandas as pd\n",
    "import matplotlib.pyplot as plt\n",
    "from numpy import nan\n",
    "\n",
    "from tensorflow.keras import Sequential\n",
    "from tensorflow.keras.layers import LSTM, Dense\n",
    "\n",
    "from sklearn.metrics import mean_squared_error\n",
    "from sklearn.preprocessing import MinMaxScaler"
   ]
  },
  {
   "cell_type": "code",
   "execution_count": 4,
   "id": "0f79639e-736e-400b-a60c-1e952028a243",
   "metadata": {},
   "outputs": [
    {
     "name": "stdout",
     "output_type": "stream",
     "text": [
      "<class 'pandas.core.frame.DataFrame'>\n",
      "RangeIndex: 2075259 entries, 0 to 2075258\n",
      "Data columns (total 9 columns):\n",
      " #   Column                 Dtype  \n",
      "---  ------                 -----  \n",
      " 0   Date                   object \n",
      " 1   Time                   object \n",
      " 2   Global_active_power    object \n",
      " 3   Global_reactive_power  object \n",
      " 4   Voltage                object \n",
      " 5   Global_intensity       object \n",
      " 6   Sub_metering_1         object \n",
      " 7   Sub_metering_2         object \n",
      " 8   Sub_metering_3         float64\n",
      "dtypes: float64(1), object(8)\n",
      "memory usage: 142.5+ MB\n"
     ]
    }
   ],
   "source": [
    "data= []\n",
    "data = pd.read_csv('Data/household_power_consumption.txt', sep = ';',parse_dates = True,low_memory = False)\n",
    "data.info()"
   ]
  },
  {
   "cell_type": "code",
   "execution_count": 5,
   "id": "39d45adf-01f7-461c-8302-ab929795701c",
   "metadata": {},
   "outputs": [],
   "source": [
    "# np.isnan(data).sum()"
   ]
  },
  {
   "cell_type": "code",
   "execution_count": 6,
   "id": "8a584495-8637-4d96-9752-d053992321ca",
   "metadata": {},
   "outputs": [
    {
     "ename": "TypeError",
     "evalue": "ufunc 'isnan' not supported for the input types, and the inputs could not be safely coerced to any supported types according to the casting rule ''safe''",
     "output_type": "error",
     "traceback": [
      "\u001b[1;31m---------------------------------------------------------------------------\u001b[0m",
      "\u001b[1;31mTypeError\u001b[0m                                 Traceback (most recent call last)",
      "\u001b[1;32m<ipython-input-6-87188a993323>\u001b[0m in \u001b[0;36m<module>\u001b[1;34m\u001b[0m\n\u001b[0;32m      5\u001b[0m             \u001b[1;32mif\u001b[0m \u001b[0mnp\u001b[0m\u001b[1;33m.\u001b[0m\u001b[0misnan\u001b[0m\u001b[1;33m(\u001b[0m\u001b[0mdata\u001b[0m\u001b[1;33m[\u001b[0m\u001b[0mrow\u001b[0m\u001b[1;33m,\u001b[0m \u001b[0mcol\u001b[0m\u001b[1;33m]\u001b[0m\u001b[1;33m)\u001b[0m\u001b[1;33m:\u001b[0m\u001b[1;33m\u001b[0m\u001b[1;33m\u001b[0m\u001b[0m\n\u001b[0;32m      6\u001b[0m                 \u001b[0mdata\u001b[0m\u001b[1;33m[\u001b[0m\u001b[0mrow\u001b[0m\u001b[1;33m,\u001b[0m \u001b[0mcol\u001b[0m\u001b[1;33m]\u001b[0m \u001b[1;33m=\u001b[0m \u001b[0mdata\u001b[0m\u001b[1;33m[\u001b[0m\u001b[0mrow\u001b[0m\u001b[1;33m-\u001b[0m\u001b[0mone_day\u001b[0m\u001b[1;33m,\u001b[0m \u001b[0mcol\u001b[0m\u001b[1;33m]\u001b[0m\u001b[1;33m\u001b[0m\u001b[1;33m\u001b[0m\u001b[0m\n\u001b[1;32m----> 7\u001b[1;33m \u001b[0mfill_missing\u001b[0m\u001b[1;33m(\u001b[0m\u001b[0mdata\u001b[0m\u001b[1;33m.\u001b[0m\u001b[0mvalues\u001b[0m\u001b[1;33m)\u001b[0m\u001b[1;33m\u001b[0m\u001b[1;33m\u001b[0m\u001b[0m\n\u001b[0m\u001b[0;32m      8\u001b[0m \u001b[0mnp\u001b[0m\u001b[1;33m.\u001b[0m\u001b[0misnan\u001b[0m\u001b[1;33m(\u001b[0m\u001b[0mdata\u001b[0m\u001b[1;33m)\u001b[0m\u001b[1;33m.\u001b[0m\u001b[0msum\u001b[0m\u001b[1;33m(\u001b[0m\u001b[1;33m)\u001b[0m\u001b[1;33m\u001b[0m\u001b[1;33m\u001b[0m\u001b[0m\n",
      "\u001b[1;32m<ipython-input-6-87188a993323>\u001b[0m in \u001b[0;36mfill_missing\u001b[1;34m(data)\u001b[0m\n\u001b[0;32m      3\u001b[0m     \u001b[1;32mfor\u001b[0m \u001b[0mrow\u001b[0m \u001b[1;32min\u001b[0m \u001b[0mrange\u001b[0m\u001b[1;33m(\u001b[0m\u001b[0mdata\u001b[0m\u001b[1;33m.\u001b[0m\u001b[0mshape\u001b[0m\u001b[1;33m[\u001b[0m\u001b[1;36m0\u001b[0m\u001b[1;33m]\u001b[0m\u001b[1;33m)\u001b[0m\u001b[1;33m:\u001b[0m\u001b[1;33m\u001b[0m\u001b[1;33m\u001b[0m\u001b[0m\n\u001b[0;32m      4\u001b[0m         \u001b[1;32mfor\u001b[0m \u001b[0mcol\u001b[0m \u001b[1;32min\u001b[0m \u001b[0mrange\u001b[0m\u001b[1;33m(\u001b[0m\u001b[0mdata\u001b[0m\u001b[1;33m.\u001b[0m\u001b[0mshape\u001b[0m\u001b[1;33m[\u001b[0m\u001b[1;36m1\u001b[0m\u001b[1;33m]\u001b[0m\u001b[1;33m)\u001b[0m\u001b[1;33m:\u001b[0m\u001b[1;33m\u001b[0m\u001b[1;33m\u001b[0m\u001b[0m\n\u001b[1;32m----> 5\u001b[1;33m             \u001b[1;32mif\u001b[0m \u001b[0mnp\u001b[0m\u001b[1;33m.\u001b[0m\u001b[0misnan\u001b[0m\u001b[1;33m(\u001b[0m\u001b[0mdata\u001b[0m\u001b[1;33m[\u001b[0m\u001b[0mrow\u001b[0m\u001b[1;33m,\u001b[0m \u001b[0mcol\u001b[0m\u001b[1;33m]\u001b[0m\u001b[1;33m)\u001b[0m\u001b[1;33m:\u001b[0m\u001b[1;33m\u001b[0m\u001b[1;33m\u001b[0m\u001b[0m\n\u001b[0m\u001b[0;32m      6\u001b[0m                 \u001b[0mdata\u001b[0m\u001b[1;33m[\u001b[0m\u001b[0mrow\u001b[0m\u001b[1;33m,\u001b[0m \u001b[0mcol\u001b[0m\u001b[1;33m]\u001b[0m \u001b[1;33m=\u001b[0m \u001b[0mdata\u001b[0m\u001b[1;33m[\u001b[0m\u001b[0mrow\u001b[0m\u001b[1;33m-\u001b[0m\u001b[0mone_day\u001b[0m\u001b[1;33m,\u001b[0m \u001b[0mcol\u001b[0m\u001b[1;33m]\u001b[0m\u001b[1;33m\u001b[0m\u001b[1;33m\u001b[0m\u001b[0m\n\u001b[0;32m      7\u001b[0m \u001b[0mfill_missing\u001b[0m\u001b[1;33m(\u001b[0m\u001b[0mdata\u001b[0m\u001b[1;33m.\u001b[0m\u001b[0mvalues\u001b[0m\u001b[1;33m)\u001b[0m\u001b[1;33m\u001b[0m\u001b[1;33m\u001b[0m\u001b[0m\n",
      "\u001b[1;31mTypeError\u001b[0m: ufunc 'isnan' not supported for the input types, and the inputs could not be safely coerced to any supported types according to the casting rule ''safe''"
     ]
    }
   ],
   "source": [
    "def fill_missing(data):\n",
    "    one_day = 24*60\n",
    "    for row in range(data.shape[0]):\n",
    "        for col in range(data.shape[1]):\n",
    "            if np.isnan(data[row, col]):\n",
    "                data[row, col] = data[row-one_day, col]\n",
    "fill_missing(data.values)\n",
    "np.isnan(data).sum()"
   ]
  },
  {
   "cell_type": "code",
   "execution_count": null,
   "id": "f221a6b3-2922-4d92-a790-7ae1d98d7db4",
   "metadata": {},
   "outputs": [],
   "source": [
    "data.to_csv('cleaned_data.csv')\n",
    "dataset = pd.read_csv('cleaned_data.csv', parse_dates = True, index_col = 'date_time', low_memory = False)\n",
    "dataset.head()\n",
    "# Downsampling the data into dáy-wise bins and sum the values of the timestamps falling into a bin.\n",
    "\n",
    "data = dataset.resample('D').sum()\n",
    "fig, ax = plt.subplots(figsize=(18,18))\n",
    "\n",
    "for i in range(len(data.columns)):\n",
    "    plt.subplot(len(data.columns), 1, i+1)\n",
    "    name = data.columns[i]\n",
    "    plt.plot(data[name])\n",
    "    plt.title(name, y=0, loc = 'right')\n",
    "    plt.yticks([])\n",
    "plt.show()\n",
    "fig.tight_layout()"
   ]
  },
  {
   "cell_type": "code",
   "execution_count": null,
   "id": "a93d8160-292a-4529-a60a-b36587e9a812",
   "metadata": {},
   "outputs": [],
   "source": [
    "fig, ax = plt.subplots(figsize=(18,18))\n",
    "\n",
    "for i in range(len(years)):\n",
    "    plt.subplot(len(years), 1, i+1)\n",
    "    year = years[i]\n",
    "    active_power_data = data[str(year)]\n",
    "    active_power_data['Global_active_power'].hist(bins = 200)\n",
    "    plt.title(str(year), y = 0, loc = 'left')\n",
    "plt.show()\n",
    "fig.tight_layout()"
   ]
  },
  {
   "cell_type": "code",
   "execution_count": null,
   "id": "f9eccad0-4c98-4b91-a0a3-16e50e0aea99",
   "metadata": {},
   "outputs": [],
   "source": [
    "fig, ax = plt.subplots(figsize=(18,18))\n",
    "\n",
    "for i in range(len(data.columns)):\n",
    "    plt.subplot(len(data.columns), 1, i+1)\n",
    "    name = data.columns[i]\n",
    "    data[name].hist(bins=200)\n",
    "    plt.title(name, y=0, loc = 'right')\n",
    "    plt.yticks([])\n",
    "plt.show()\n",
    "fig.tight_layout()"
   ]
  },
  {
   "cell_type": "code",
   "execution_count": null,
   "id": "e38eba54-8a36-46da-8e3e-fc940c899bc4",
   "metadata": {},
   "outputs": [],
   "source": [
    "# Here splitting the dataset upto end of 2009 is in train dataset and remaining we keeping it in test dataset.\n",
    "\n",
    "data_train = data.loc[:'2009-12-31', :]['Global_active_power']\n",
    "data_train.head()"
   ]
  },
  {
   "cell_type": "code",
   "execution_count": null,
   "id": "2d4c2cba-dac0-4620-b954-044afb07f90b",
   "metadata": {},
   "outputs": [],
   "source": [
    "data_test = data['2010']['Global_active_power']\n",
    "data_test.head()"
   ]
  },
  {
   "cell_type": "code",
   "execution_count": null,
   "id": "2c011612-7ae2-4b42-a4c9-de29931326ee",
   "metadata": {},
   "outputs": [],
   "source": [
    "data_train.shape, data_test.shape"
   ]
  },
  {
   "cell_type": "code",
   "execution_count": null,
   "id": "7fba324f-6646-4a3c-a3a9-463f8ad4620d",
   "metadata": {},
   "outputs": [],
   "source": [
    "data_train = np.array(data_train)\n",
    "# We are splitting the data weekly wise(7days)\n",
    "\n",
    "X_train, y_train = [], []\n",
    "\n",
    "for i in range(7, len(data_train)-7):\n",
    "    X_train.append(data_train[i-7:i])\n",
    "    y_train.append(data_train[i:i+7])\n",
    "X_train, y_train = np.array(X_train), np.array(y_train) #converting list into numpy array\n",
    "X_train.shape, y_train.shape"
   ]
  },
  {
   "cell_type": "code",
   "execution_count": null,
   "id": "d57d97d6-8ffa-4e17-9e71-af7c2f92dbdb",
   "metadata": {},
   "outputs": [],
   "source": [
    "# Normalising the dataset between 0 and 1\n",
    "\n",
    "x_scaler = MinMaxScaler()\n",
    "X_train = x_scaler.fit_transform(X_train)\n",
    "X_train = X_train.reshape(1098, 7, 1) #Reshaping the shape into 3 dimensions to fit in the LSTM Model.\n",
    "X_train.shape"
   ]
  },
  {
   "cell_type": "code",
   "execution_count": null,
   "id": "161d3022-59ab-4c5c-9c87-abaeef78ee4a",
   "metadata": {},
   "outputs": [],
   "source": [
    "# Building sequential model using Keras\n",
    "reg = Sequential()\n",
    "reg.add(LSTM(units = 200, activation = 'relu', input_shape=(7,1)))\n",
    "reg.add(Dense(7))\n",
    "reg.compile(loss='mse', optimizer='adam')\n",
    "reg.fit(X_train, y_train, epochs = 100)"
   ]
  },
  {
   "cell_type": "code",
   "execution_count": null,
   "id": "c60c363a-94c4-49aa-84e6-e1d20b2d2889",
   "metadata": {},
   "outputs": [],
   "source": [
    "data_test = np.array(data_test)\n",
    "# Here we are splitting the data weekly wise(7days)\n",
    "\n",
    "X_test, y_test = [], []\n",
    "\n",
    "for i in range(7, len(data_test)-7):\n",
    "    X_test.append(data_test[i-7:i])\n",
    "    y_test.append(data_test[i:i+7])\n",
    "X_test, y_test = np.array(X_test), np.array(y_test)\n",
    "X_test = x_scaler.transform(X_test)\n",
    "y_test = y_scaler.transform(y_test)\n",
    "X_test.shape"
   ]
  },
  {
   "cell_type": "code",
   "execution_count": null,
   "id": "fe519f97-0b58-42ae-9544-c395b524c873",
   "metadata": {},
   "outputs": [],
   "source": [
    " \n",
    "X_test = X_test.reshape(326,7,1)\n",
    "X_test.shape"
   ]
  },
  {
   "cell_type": "code",
   "execution_count": null,
   "id": "391d6276-79c1-49c8-bfce-8700da5a221c",
   "metadata": {},
   "outputs": [],
   "source": [
    " \n",
    "y_pred = reg.predict(X_test)\n",
    "# Bringing y_pred values to their original forms by using inverse transform\n",
    "\n",
    "y_pred = y_scaler.inverse_transform(y_pred)\n",
    "y_true = y_scaler.inverse_transform(y_test)"
   ]
  },
  {
   "cell_type": "code",
   "execution_count": null,
   "id": "74021034-1f22-4615-a45a-47cd117e3952",
   "metadata": {},
   "outputs": [],
   "source": [
    "def evaluate_model(y_true, y_predicted):\n",
    "    scores = []\n",
    "    \n",
    "    #calculate scores for each day\n",
    "    for i in range(y_true.shape[1]):\n",
    "        mse = mean_squared_error(y_true[:, i], y_predicted[:, i])\n",
    "        rmse = np.sqrt(mse)\n",
    "        scores.append(rmse)\n",
    "    \n",
    "    #calculate score for whole prediction\n",
    "    total_score = 0\n",
    "    for row in range(y_true.shape[0]):\n",
    "        for col in range(y_predicted.shape[1]):\n",
    "            total_score = total_score + (y_true[row, col] - y_predicted[row, col])**2\n",
    "    total_score = np.sqrt(total_score/(y_true.shape[0]*y_predicted.shape[1]))\n",
    "    \n",
    "    return total_score, scores\n",
    "\n",
    "evaluate_model(y_true, y_pred)"
   ]
  },
  {
   "cell_type": "code",
   "execution_count": null,
   "id": "36734eb3-2a6b-4f56-93a2-a4e8d86549ba",
   "metadata": {},
   "outputs": [],
   "source": [
    "# Standard deviation\n",
    "\n",
    "np.std(y_true[0])\n",
    " "
   ]
  },
  {
   "cell_type": "code",
   "execution_count": null,
   "id": "cfa9ba05-1c1a-4a53-918c-93ad6ff3b88c",
   "metadata": {},
   "outputs": [],
   "source": [
    "# https://ghoshratul063.medium.com/multi-step-time-series-prediction-using-lstm-3d616656ef25"
   ]
  }
 ],
 "metadata": {
  "kernelspec": {
   "display_name": "Python 3",
   "language": "python",
   "name": "python3"
  },
  "language_info": {
   "codemirror_mode": {
    "name": "ipython",
    "version": 3
   },
   "file_extension": ".py",
   "mimetype": "text/x-python",
   "name": "python",
   "nbconvert_exporter": "python",
   "pygments_lexer": "ipython3",
   "version": "3.8.8"
  }
 },
 "nbformat": 4,
 "nbformat_minor": 5
}
